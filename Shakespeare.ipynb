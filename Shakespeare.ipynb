{
  "nbformat": 4,
  "nbformat_minor": 0,
  "metadata": {
    "colab": {
      "name": "Shakespeare.ipynb",
      "provenance": [],
      "authorship_tag": "ABX9TyOtKf5c6lPwFMD4Lol2eA1U",
      "include_colab_link": true
    },
    "kernelspec": {
      "name": "python3",
      "display_name": "Python 3"
    },
    "accelerator": "GPU"
  },
  "cells": [
    {
      "cell_type": "markdown",
      "metadata": {
        "id": "view-in-github",
        "colab_type": "text"
      },
      "source": [
        "<a href=\"https://colab.research.google.com/github/around-star/Shakespeare/blob/master/Shakespeare.ipynb\" target=\"_parent\"><img src=\"https://colab.research.google.com/assets/colab-badge.svg\" alt=\"Open In Colab\"/></a>"
      ]
    },
    {
      "cell_type": "code",
      "metadata": {
        "id": "_-qQ6ePUOFTq",
        "colab_type": "code",
        "colab": {}
      },
      "source": [
        "from tensorflow.keras.preprocessing.sequence import pad_sequences\n",
        "from tensorflow.keras.layers import Embedding, LSTM, Dense, Dropout, Bidirectional\n",
        "from tensorflow.keras.preprocessing.text import Tokenizer\n",
        "from tensorflow.keras.models import Sequential\n",
        "from tensorflow.keras.optimizers import Adam\n",
        "from tensorflow.keras import regularizers\n",
        "import tensorflow.keras.utils as ku \n",
        "import numpy as np \n",
        "import os"
      ],
      "execution_count": 2,
      "outputs": []
    },
    {
      "cell_type": "code",
      "metadata": {
        "id": "QTcgYqb6PUux",
        "colab_type": "code",
        "colab": {
          "base_uri": "https://localhost:8080/",
          "height": 122
        },
        "outputId": "47276b50-7a4d-4b95-d150-2b23c145993d"
      },
      "source": [
        "from google.colab import drive\n",
        "drive.mount('/gdrive')\n",
        "os.chdir('/gdrive/My Drive')"
      ],
      "execution_count": 3,
      "outputs": [
        {
          "output_type": "stream",
          "text": [
            "Go to this URL in a browser: https://accounts.google.com/o/oauth2/auth?client_id=947318989803-6bn6qk8qdgf4n4g3pfee6491hc0brc4i.apps.googleusercontent.com&redirect_uri=urn%3aietf%3awg%3aoauth%3a2.0%3aoob&scope=email%20https%3a%2f%2fwww.googleapis.com%2fauth%2fdocs.test%20https%3a%2f%2fwww.googleapis.com%2fauth%2fdrive%20https%3a%2f%2fwww.googleapis.com%2fauth%2fdrive.photos.readonly%20https%3a%2f%2fwww.googleapis.com%2fauth%2fpeopleapi.readonly&response_type=code\n",
            "\n",
            "Enter your authorization code:\n",
            "··········\n",
            "Mounted at /gdrive\n"
          ],
          "name": "stdout"
        }
      ]
    },
    {
      "cell_type": "code",
      "metadata": {
        "id": "yApu8HIVPlY8",
        "colab_type": "code",
        "colab": {}
      },
      "source": [
        "data = open('Shakespeare.txt').read()\n",
        "\n",
        "corpus = data.lower().split(\"\\n\")\n",
        "\n",
        "tokenizer = Tokenizer()\n",
        "\n",
        "tokenizer.fit_on_texts(corpus)\n",
        "total_words = len(tokenizer.word_index) + 1\n",
        "\n",
        "# input sequences using list of tokens\n",
        "input_sequences = []\n",
        "for line in corpus:\n",
        "\ttoken_list = tokenizer.texts_to_sequences([line])[0]\n",
        "\tfor i in range(1, len(token_list)):\n",
        "\t\tn_gram_sequence = token_list[:i+1]\n",
        "\t\tinput_sequences.append(n_gram_sequence)\n",
        "\n",
        "\n",
        "# pad sequences \n",
        "max_sequence_len = max([len(x) for x in input_sequences])\n",
        "input_sequences = np.array(pad_sequences(input_sequences, maxlen=max_sequence_len, padding='pre'))\n",
        "\n",
        "# create predictors and label\n",
        "predictors, label = input_sequences[:,:-1],input_sequences[:,-1]\n",
        "\n",
        "label = ku.to_categorical(label, num_classes=total_words)"
      ],
      "execution_count": 4,
      "outputs": []
    },
    {
      "cell_type": "code",
      "metadata": {
        "id": "7yH-1wHfShAN",
        "colab_type": "code",
        "colab": {
          "base_uri": "https://localhost:8080/",
          "height": 374
        },
        "outputId": "7da60d42-eb51-4dba-a669-3522b5444d19"
      },
      "source": [
        "model = Sequential()\n",
        "model.add(Embedding(total_words, 100, input_length=max_sequence_len-1))\n",
        "model.add(Bidirectional(LSTM(150, return_sequences = True)))\n",
        "model.add(Dropout(0.2))\n",
        "model.add(LSTM(100))\n",
        "model.add(Dense(total_words/2, activation='relu', kernel_regularizer=regularizers.l2(0.01)))\n",
        "model.add(Dense(total_words, activation='softmax'))\n",
        "model.compile(loss='categorical_crossentropy', optimizer='adam', metrics=['accuracy'])\n",
        "print(model.summary())\n"
      ],
      "execution_count": 5,
      "outputs": [
        {
          "output_type": "stream",
          "text": [
            "Model: \"sequential\"\n",
            "_________________________________________________________________\n",
            "Layer (type)                 Output Shape              Param #   \n",
            "=================================================================\n",
            "embedding (Embedding)        (None, 15, 100)           1263300   \n",
            "_________________________________________________________________\n",
            "bidirectional (Bidirectional (None, 15, 300)           301200    \n",
            "_________________________________________________________________\n",
            "dropout (Dropout)            (None, 15, 300)           0         \n",
            "_________________________________________________________________\n",
            "lstm_1 (LSTM)                (None, 100)               160400    \n",
            "_________________________________________________________________\n",
            "dense (Dense)                (None, 6316)              637916    \n",
            "_________________________________________________________________\n",
            "dense_1 (Dense)              (None, 12633)             79802661  \n",
            "=================================================================\n",
            "Total params: 82,165,477\n",
            "Trainable params: 82,165,477\n",
            "Non-trainable params: 0\n",
            "_________________________________________________________________\n",
            "None\n"
          ],
          "name": "stdout"
        }
      ]
    },
    {
      "cell_type": "code",
      "metadata": {
        "id": "eMNx7gB9SiwI",
        "colab_type": "code",
        "colab": {
          "base_uri": "https://localhost:8080/",
          "height": 1000
        },
        "outputId": "3d000e0d-f46c-4da5-d077-39e847ae0281"
      },
      "source": [
        " history = model.fit(predictors, label, epochs=50, verbose=2)"
      ],
      "execution_count": 6,
      "outputs": [
        {
          "output_type": "stream",
          "text": [
            "Epoch 1/50\n",
            "5354/5354 - 189s - loss: 6.8177 - accuracy: 0.0377\n",
            "Epoch 2/50\n",
            "5354/5354 - 191s - loss: 6.3682 - accuracy: 0.0629\n",
            "Epoch 3/50\n",
            "5354/5354 - 191s - loss: 6.1257 - accuracy: 0.0813\n",
            "Epoch 4/50\n",
            "5354/5354 - 191s - loss: 5.9592 - accuracy: 0.0902\n",
            "Epoch 5/50\n",
            "5354/5354 - 190s - loss: 5.8235 - accuracy: 0.0971\n",
            "Epoch 6/50\n",
            "5354/5354 - 188s - loss: 5.7101 - accuracy: 0.1023\n",
            "Epoch 7/50\n",
            "5354/5354 - 189s - loss: 5.6175 - accuracy: 0.1079\n",
            "Epoch 8/50\n",
            "5354/5354 - 192s - loss: 5.5371 - accuracy: 0.1122\n",
            "Epoch 9/50\n",
            "5354/5354 - 189s - loss: 5.4638 - accuracy: 0.1157\n",
            "Epoch 10/50\n",
            "5354/5354 - 190s - loss: 5.3966 - accuracy: 0.1189\n",
            "Epoch 11/50\n",
            "5354/5354 - 188s - loss: 5.3334 - accuracy: 0.1225\n",
            "Epoch 12/50\n",
            "5354/5354 - 190s - loss: 5.2756 - accuracy: 0.1259\n",
            "Epoch 13/50\n",
            "5354/5354 - 189s - loss: 5.2199 - accuracy: 0.1296\n",
            "Epoch 14/50\n",
            "5354/5354 - 190s - loss: 5.1660 - accuracy: 0.1332\n",
            "Epoch 15/50\n",
            "5354/5354 - 190s - loss: 5.1166 - accuracy: 0.1366\n",
            "Epoch 16/50\n",
            "5354/5354 - 190s - loss: 5.0689 - accuracy: 0.1403\n",
            "Epoch 17/50\n",
            "5354/5354 - 191s - loss: 5.0238 - accuracy: 0.1424\n",
            "Epoch 18/50\n",
            "5354/5354 - 192s - loss: 4.9843 - accuracy: 0.1455\n",
            "Epoch 19/50\n",
            "5354/5354 - 192s - loss: 4.9447 - accuracy: 0.1482\n",
            "Epoch 20/50\n",
            "5354/5354 - 192s - loss: 4.9094 - accuracy: 0.1503\n",
            "Epoch 21/50\n",
            "5354/5354 - 192s - loss: 4.8751 - accuracy: 0.1531\n",
            "Epoch 22/50\n",
            "5354/5354 - 192s - loss: 4.8401 - accuracy: 0.1563\n",
            "Epoch 23/50\n",
            "5354/5354 - 190s - loss: 4.8073 - accuracy: 0.1578\n",
            "Epoch 24/50\n",
            "5354/5354 - 187s - loss: 4.7777 - accuracy: 0.1604\n",
            "Epoch 25/50\n",
            "5354/5354 - 187s - loss: 4.7503 - accuracy: 0.1632\n",
            "Epoch 26/50\n",
            "5354/5354 - 186s - loss: 4.7206 - accuracy: 0.1659\n",
            "Epoch 27/50\n",
            "5354/5354 - 186s - loss: 4.6939 - accuracy: 0.1685\n",
            "Epoch 28/50\n",
            "5354/5354 - 188s - loss: 4.6709 - accuracy: 0.1694\n",
            "Epoch 29/50\n",
            "5354/5354 - 189s - loss: 4.6461 - accuracy: 0.1711\n",
            "Epoch 30/50\n",
            "5354/5354 - 187s - loss: 4.6244 - accuracy: 0.1734\n",
            "Epoch 31/50\n",
            "5354/5354 - 186s - loss: 4.6052 - accuracy: 0.1751\n",
            "Epoch 32/50\n",
            "5354/5354 - 186s - loss: 4.5831 - accuracy: 0.1774\n",
            "Epoch 33/50\n",
            "5354/5354 - 186s - loss: 4.5631 - accuracy: 0.1793\n",
            "Epoch 34/50\n",
            "5354/5354 - 185s - loss: 4.5466 - accuracy: 0.1806\n",
            "Epoch 35/50\n",
            "5354/5354 - 186s - loss: 4.5257 - accuracy: 0.1830\n",
            "Epoch 36/50\n",
            "5354/5354 - 186s - loss: 4.5075 - accuracy: 0.1839\n",
            "Epoch 37/50\n",
            "5354/5354 - 186s - loss: 4.4897 - accuracy: 0.1860\n",
            "Epoch 38/50\n",
            "5354/5354 - 186s - loss: 4.4767 - accuracy: 0.1868\n",
            "Epoch 39/50\n",
            "5354/5354 - 185s - loss: 4.4587 - accuracy: 0.1881\n",
            "Epoch 40/50\n",
            "5354/5354 - 186s - loss: 4.4468 - accuracy: 0.1902\n",
            "Epoch 41/50\n",
            "5354/5354 - 186s - loss: 4.4320 - accuracy: 0.1909\n",
            "Epoch 42/50\n",
            "5354/5354 - 186s - loss: 4.4183 - accuracy: 0.1934\n",
            "Epoch 43/50\n",
            "5354/5354 - 186s - loss: 4.4037 - accuracy: 0.1952\n",
            "Epoch 44/50\n",
            "5354/5354 - 186s - loss: 4.3912 - accuracy: 0.1957\n",
            "Epoch 45/50\n",
            "5354/5354 - 186s - loss: 4.3774 - accuracy: 0.1969\n",
            "Epoch 46/50\n",
            "5354/5354 - 187s - loss: 4.3687 - accuracy: 0.1977\n",
            "Epoch 47/50\n",
            "5354/5354 - 187s - loss: 4.3550 - accuracy: 0.1990\n",
            "Epoch 48/50\n",
            "5354/5354 - 187s - loss: 4.3477 - accuracy: 0.2000\n",
            "Epoch 49/50\n",
            "5354/5354 - 187s - loss: 4.3358 - accuracy: 0.2013\n",
            "Epoch 50/50\n",
            "5354/5354 - 188s - loss: 4.3253 - accuracy: 0.2033\n"
          ],
          "name": "stdout"
        }
      ]
    },
    {
      "cell_type": "code",
      "metadata": {
        "id": "boY8BKJZZmt3",
        "colab_type": "code",
        "colab": {
          "base_uri": "https://localhost:8080/",
          "height": 545
        },
        "outputId": "432c805f-839f-4e3c-a444-e96fa570baf0"
      },
      "source": [
        "import matplotlib.pyplot as plt\n",
        "acc = history.history['accuracy']\n",
        "loss = history.history['loss']\n",
        "\n",
        "epochs = range(len(acc))\n",
        "\n",
        "plt.plot(epochs, acc, 'b', label='Training accuracy')\n",
        "plt.title('Training accuracy')\n",
        "\n",
        "plt.figure()\n",
        "\n",
        "plt.plot(epochs, loss, 'b', label='Training Loss')\n",
        "plt.title('Training loss')\n",
        "plt.legend()\n",
        "\n",
        "plt.show()"
      ],
      "execution_count": 7,
      "outputs": [
        {
          "output_type": "display_data",
          "data": {
            "image/png": "[encoded data removed]",
            "text/plain": [
              "<Figure size 432x288 with 1 Axes>"
            ]
          },
          "metadata": {
            "tags": [],
            "needs_background": "light"
          }
        },
        {
          "output_type": "display_data",
          "data": {
            "image/png": "[encoded data removed]",
            "text/plain": [
              "<Figure size 432x288 with 1 Axes>"
            ]
          },
          "metadata": {
            "tags": [],
            "needs_background": "light"
          }
        }
      ]
    },
    {
      "cell_type": "code",
      "metadata": {
        "id": "JzbocNr-ewuL",
        "colab_type": "code",
        "colab": {
          "base_uri": "https://localhost:8080/",
          "height": 54
        },
        "outputId": "189bcf16-97e6-44d9-bdd0-a4fcd60b8daa"
      },
      "source": [
        "seed_text = \"Help me Obi Wan Kenobi, you're my only hope\"\n",
        "next_words = 100\n",
        "  \n",
        "for _ in range(next_words):\n",
        "\ttoken_list = tokenizer.texts_to_sequences([seed_text])[0]\n",
        "\ttoken_list = pad_sequences([token_list], maxlen=max_sequence_len-1, padding='pre')\n",
        "\tpredicted = model.predict_classes(token_list, verbose=0)\n",
        "\toutput_word = \"\"\n",
        "\tfor word, index in tokenizer.word_index.items():\n",
        "\t\tif index == predicted:\n",
        "\t\t\toutput_word = word\n",
        "\t\t\tbreak\n",
        "\tseed_text += \" \" + output_word\n",
        "print(seed_text)"
      ],
      "execution_count": 9,
      "outputs": [
        {
          "output_type": "stream",
          "text": [
            "Help me Obi Wan Kenobi, you're my only hope and all the people with it and i will not speak it to you and i am a man to do me speak you not to be so much shoes than you sir that i have heard you are a man a man to do not you not go on me come you sir i am a man like me i am a man of it that is no more than you are to be admitted to the king of france at the duke of norfolk that is not dead and much less well a man to be a man\n"
          ],
          "name": "stdout"
        }
      ]
    },
    {
      "cell_type": "code",
      "metadata": {
        "id": "oNvciMXOfFPh",
        "colab_type": "code",
        "colab": {}
      },
      "source": [
        ""
      ],
      "execution_count": null,
      "outputs": []
    }
  ]
}